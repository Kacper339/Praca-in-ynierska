{
 "cells": [
  {
   "cell_type": "code",
   "execution_count": 1,
   "metadata": {
    "execution": {
     "iopub.execute_input": "2024-10-30T16:28:20.176298Z",
     "iopub.status.busy": "2024-10-30T16:28:20.175808Z",
     "iopub.status.idle": "2024-10-30T16:28:35.641934Z",
     "shell.execute_reply": "2024-10-30T16:28:35.640760Z",
     "shell.execute_reply.started": "2024-10-30T16:28:20.176242Z"
    }
   },
   "outputs": [],
   "source": [
    "import os\n",
    "import pandas as pd\n",
    "import numpy as np\n",
    "import tensorflow as tf\n",
    "import matplotlib.pyplot as plt\n",
    "from skimage.transform import resize\n",
    "\n",
    "from tensorflow.keras import datasets, layers, models, callbacks\n",
    "from tensorflow.keras.utils import to_categorical\n",
    "from tensorflow.keras.optimizers import Adam\n",
    "from tensorflow.keras.callbacks import EarlyStopping\n",
    "from tensorflow.keras.preprocessing.image import ImageDataGenerator\n",
    "from tensorflow.keras.models import load_model"
   ]
  },
  {
   "cell_type": "markdown",
   "metadata": {},
   "source": [
    "# 1. Wstępne przetwarzanie danych"
   ]
  },
  {
   "cell_type": "code",
   "execution_count": 2,
   "metadata": {
    "execution": {
     "iopub.execute_input": "2024-10-30T16:28:35.644828Z",
     "iopub.status.busy": "2024-10-30T16:28:35.644161Z",
     "iopub.status.idle": "2024-10-30T16:28:35.661718Z",
     "shell.execute_reply": "2024-10-30T16:28:35.660335Z",
     "shell.execute_reply.started": "2024-10-30T16:28:35.644785Z"
    }
   },
   "outputs": [
    {
     "name": "stdout",
     "output_type": "stream",
     "text": [
      "['buildings', 'forest', 'glacier', 'mountain', 'sea', 'street']\n",
      "     0         1         2         3         4         5    "
     ]
    }
   ],
   "source": [
    "train_dir = \"/kaggle/input/krajobrazy/seg_train/seg_train\"\n",
    "test_dir = \"/kaggle/input/krajobrazy/seg_test/seg_test\"\n",
    "\n",
    "x_train = []\n",
    "y_train = []\n",
    "\n",
    "x_test = []\n",
    "y_test = []\n",
    "\n",
    "folderlist = os.listdir(train_dir);\n",
    "folderlist.sort();\n",
    "\n",
    "print(folderlist)\n",
    "\n",
    "for i in range(0,6):\n",
    "    print(\"     \"+str(i)+\"    \",end=\"\")"
   ]
  },
  {
   "cell_type": "code",
   "execution_count": 3,
   "metadata": {
    "execution": {
     "iopub.execute_input": "2024-10-30T16:28:35.663521Z",
     "iopub.status.busy": "2024-10-30T16:28:35.663163Z",
     "iopub.status.idle": "2024-10-30T16:31:20.581592Z",
     "shell.execute_reply": "2024-10-30T16:31:20.580359Z",
     "shell.execute_reply.started": "2024-10-30T16:28:35.663483Z"
    }
   },
   "outputs": [
    {
     "name": "stdout",
     "output_type": "stream",
     "text": [
      "Train data:\n",
      "x_train: 14034\n",
      "y_train: 14034\n"
     ]
    }
   ],
   "source": [
    "for i, category in enumerate(folderlist):\n",
    "    pictures = os.listdir(train_dir+\"/\"+category)\n",
    "    for picture in pictures:\n",
    "        img = plt.imread(train_dir+\"/\"+category+'/{0}'.format(picture),0)\n",
    "        img_resized = resize(img, (150, 150))  # Zmiana rozmiaru obrazów\n",
    "        x_train.append(img_resized)\n",
    "        y_train.append(i)\n",
    "\n",
    "print(\"Train data:\")\n",
    "print(\"x_train: \"+str(len(x_train))) \n",
    "print(\"y_train: \"+str(len(y_train)))"
   ]
  },
  {
   "cell_type": "code",
   "execution_count": 4,
   "metadata": {
    "execution": {
     "iopub.execute_input": "2024-10-30T16:31:20.584491Z",
     "iopub.status.busy": "2024-10-30T16:31:20.584122Z",
     "iopub.status.idle": "2024-10-30T16:31:53.161320Z",
     "shell.execute_reply": "2024-10-30T16:31:53.160106Z",
     "shell.execute_reply.started": "2024-10-30T16:31:20.584451Z"
    }
   },
   "outputs": [
    {
     "name": "stdout",
     "output_type": "stream",
     "text": [
      "Test data:\n",
      "x_test: 3000\n",
      "y_test: 3000\n"
     ]
    }
   ],
   "source": [
    "for i, category in enumerate(folderlist):\n",
    "    pictures = os.listdir(test_dir+\"/\"+category)\n",
    "    for picture in pictures:\n",
    "        img = plt.imread(test_dir+\"/\"+category+'/{0}'.format(picture),0)\n",
    "        img_resized = resize(img, (150, 150))  # Zmiana rozmiaru obrazów\n",
    "        x_test.append(img_resized)\n",
    "        y_test.append(i)\n",
    "\n",
    "print(\"Test data:\")\n",
    "print(\"x_test: \"+str(len(x_test)))\n",
    "print(\"y_test: \"+str(len(y_test)))"
   ]
  },
  {
   "cell_type": "code",
   "execution_count": 5,
   "metadata": {
    "execution": {
     "iopub.execute_input": "2024-10-30T16:31:53.163491Z",
     "iopub.status.busy": "2024-10-30T16:31:53.163085Z",
     "iopub.status.idle": "2024-10-30T16:31:55.415572Z",
     "shell.execute_reply": "2024-10-30T16:31:55.414183Z",
     "shell.execute_reply.started": "2024-10-30T16:31:53.163449Z"
    }
   },
   "outputs": [
    {
     "name": "stdout",
     "output_type": "stream",
     "text": [
      "(14034, 150, 150, 3)\n"
     ]
    }
   ],
   "source": [
    "x_train = np.array(x_train, 'float32')\n",
    "y_train = np.array(y_train, 'float32')\n",
    "x_test = np.array(x_test, 'float32')\n",
    "y_test = np.array(y_test, 'float32')\n",
    "\n",
    "print(x_train.shape)"
   ]
  },
  {
   "cell_type": "code",
   "execution_count": 6,
   "metadata": {
    "execution": {
     "iopub.execute_input": "2024-10-30T16:31:55.417537Z",
     "iopub.status.busy": "2024-10-30T16:31:55.417162Z",
     "iopub.status.idle": "2024-10-30T16:32:00.380777Z",
     "shell.execute_reply": "2024-10-30T16:32:00.379480Z",
     "shell.execute_reply.started": "2024-10-30T16:31:55.417499Z"
    }
   },
   "outputs": [],
   "source": [
    "x_train_norm = (x_train - np.min(x_train)) / (np.max(x_train) - np.min(x_train)) * 255.0\n",
    "x_train_norm = x_train_norm / 255.0\n",
    "\n",
    "x_test_norm = (x_test - np.min(x_test)) / (np.max(x_test) - np.min(x_test)) * 255.0\n",
    "x_test_norm = x_test_norm / 255.0"
   ]
  },
  {
   "cell_type": "code",
   "execution_count": 7,
   "metadata": {
    "execution": {
     "iopub.execute_input": "2024-10-30T16:32:00.382442Z",
     "iopub.status.busy": "2024-10-30T16:32:00.382066Z",
     "iopub.status.idle": "2024-10-30T16:32:00.389418Z",
     "shell.execute_reply": "2024-10-30T16:32:00.388231Z",
     "shell.execute_reply.started": "2024-10-30T16:32:00.382404Z"
    }
   },
   "outputs": [],
   "source": [
    "y_train_oneHot = to_categorical(y_train, num_classes=6)\n",
    "y_test_oneHot = to_categorical(y_test,num_classes=6)"
   ]
  },
  {
   "cell_type": "markdown",
   "metadata": {},
   "source": [
    "# 2. Tworzenie modeli z ewentualną modyfikacją danych"
   ]
  },
  {
   "cell_type": "markdown",
   "metadata": {},
   "source": [
    "## 2.1 Model Prosty"
   ]
  },
  {
   "cell_type": "code",
   "execution_count": null,
   "metadata": {},
   "outputs": [],
   "source": [
    "model_simple = models.Sequential()\n",
    "model_simple.add(layers.Conv2D(32, (3, 3), activation='relu', input_shape=(150, 150, 3)))\n",
    "model_simple.add(layers.MaxPooling2D((2, 2)))\n",
    "\n",
    "model_simple.add(layers.Conv2D(64, (3, 3), activation='relu'))\n",
    "model_simple.add(layers.Dropout(0.4))\n",
    "model_simple.add(layers.MaxPooling2D((2, 2)))\n",
    "\n",
    "model_simple.add(layers.Conv2D(128, (3, 3), activation='relu'))\n",
    "model_simple.add(layers.Dropout(0.4))\n",
    "model_simple.add(layers.MaxPooling2D((2, 2)))\n",
    "\n",
    "model_simple.add(layers.Flatten())\n",
    "model_simple.add(layers.Dense(512, activation='relu'))\n",
    "model_simple.add(layers.Dropout(0.4))\n",
    "model_simple.add(layers.Dense(len(folderlist), activation='softmax'))\n",
    "\n",
    "model_simple.compile(optimizer='adam',\n",
    "              loss='categorical_crossentropy',\n",
    "              metrics=['accuracy'])"
   ]
  },
  {
   "cell_type": "code",
   "execution_count": null,
   "metadata": {},
   "outputs": [],
   "source": [
    "batchSize = 32\n",
    "epochsNum = 30\n",
    "\n",
    "stopEarly = EarlyStopping(monitor='val_accuracy' , patience=5, restore_best_weights=True)\n",
    "\n",
    "history_simple = model_simple.fit(x_train_norm,\n",
    "                   y_train_oneHot,\n",
    "                   batch_size=batchSize,\n",
    "                   shuffle=True,\n",
    "                   epochs=epochsNum,\n",
    "                   validation_data=(x_test_norm, y_test_oneHot),\n",
    "                   callbacks=[stopEarly])"
   ]
  },
  {
   "cell_type": "code",
   "execution_count": null,
   "metadata": {},
   "outputs": [],
   "source": [
    "model_simple.save(\"zapisane/model_simple.h5\")\n",
    "model_simple.save(\"zapisane/model_simple.keras\")"
   ]
  },
  {
   "cell_type": "markdown",
   "metadata": {},
   "source": [
    "## 2.2 Model prosty z dodatkową warstwą i innymi parametrami"
   ]
  },
  {
   "cell_type": "code",
   "execution_count": null,
   "metadata": {},
   "outputs": [],
   "source": [
    "model_bigger = models.Sequential()\n",
    "model_bigger.add(layers.Conv2D(32, (3, 3), activation='relu', input_shape=(150, 150, 3)))\n",
    "model_bigger.add(layers.MaxPooling2D((2, 2)))\n",
    "\n",
    "model_bigger.add(layers.Conv2D(64, (3, 3), activation='relu'))\n",
    "model_bigger.add(layers.MaxPooling2D((2, 2)))\n",
    "model_bigger.add(layers.Dropout(0.3))\n",
    "\n",
    "model_bigger.add(layers.Conv2D(128, (3, 3), activation='relu'))\n",
    "model_bigger.add(layers.MaxPooling2D((2, 2)))\n",
    "model_bigger.add(layers.Dropout(0.3))\n",
    "\n",
    "model_bigger.add(layers.Conv2D(128, (3, 3), activation='relu'))\n",
    "model_bigger.add(layers.MaxPooling2D((2, 2)))\n",
    "model_bigger.add(layers.Dropout(0.3))\n",
    "\n",
    "model_bigger.add(layers.Flatten())\n",
    "model_bigger.add(layers.Dense(512, activation='relu'))\n",
    "model_bigger.add(layers.Dropout(0.4))\n",
    "model_bigger.add(layers.Dense(6, activation='softmax'))\n",
    "\n",
    "model_bigger.compile(optimizer=Adam(learning_rate=0.0001),\n",
    "              loss='categorical_crossentropy',\n",
    "              metrics=['accuracy'])"
   ]
  },
  {
   "cell_type": "code",
   "execution_count": null,
   "metadata": {},
   "outputs": [],
   "source": [
    "batchSize = 32\n",
    "epochsNum = 50\n",
    "\n",
    "stopEarly = EarlyStopping(monitor='val_loss', patience=10, restore_best_weights=True)\n",
    "\n",
    "history_bigger = model_bigger.fit(x_train_norm,\n",
    "                           y_train_oneHot,\n",
    "                           batch_size=batchSize,\n",
    "                           shuffle=True,\n",
    "                            epochs=epochsNum,\n",
    "                            validation_data=(x_test_norm, y_test_oneHot),\n",
    "                            callbacks=[stopEarly])"
   ]
  },
  {
   "cell_type": "code",
   "execution_count": null,
   "metadata": {},
   "outputs": [],
   "source": [
    "model_bigger.save(\"zapisane/model_bigger.h5\")\n",
    "model_bigger.save(\"zapisane/model_bigger.keras\")"
   ]
  },
  {
   "cell_type": "markdown",
   "metadata": {},
   "source": [
    "## 2.3 Model z modyfikacją zdjęć"
   ]
  },
  {
   "cell_type": "code",
   "execution_count": null,
   "metadata": {},
   "outputs": [],
   "source": [
    "datagen = ImageDataGenerator(\n",
    "    rotation_range=10,\n",
    "    width_shift_range=0.08,\n",
    "    height_shift_range=0.08,\n",
    "    shear_range=0.1,\n",
    "    zoom_range=0.1,\n",
    "    horizontal_flip=True,\n",
    "    fill_mode='nearest'\n",
    ")\n",
    "\n",
    "datagen.fit(x_train)"
   ]
  },
  {
   "cell_type": "code",
   "execution_count": null,
   "metadata": {},
   "outputs": [],
   "source": [
    "model_modify = models.Sequential()\n",
    "\n",
    "model_modify.add(layers.Conv2D(32, (3, 3), activation='relu', input_shape=(150, 150, 3)))\n",
    "model_modify.add(layers.MaxPooling2D((2, 2)))\n",
    "\n",
    "model_modify.add(layers.Conv2D(64, (3, 3), activation='relu'))\n",
    "model_modify.add(layers.Dropout(0.3))\n",
    "model_modify.add(layers.MaxPooling2D((2, 2)))\n",
    "\n",
    "model_modify.add(layers.Conv2D(128, (3, 3), activation='relu'))\n",
    "model_modify.add(layers.Dropout(0.3))\n",
    "model_modify.add(layers.MaxPooling2D((2, 2)))\n",
    "\n",
    "model_modify.add(layers.Flatten())\n",
    "model_modify.add(layers.Dense(512, activation='relu'))\n",
    "model_modify.add(layers.Dropout(0.3))\n",
    "model_modify.add(layers.Dense(len(folderlist), activation='softmax'))\n",
    "\n",
    "model_modify.compile(optimizer='adam',\n",
    "              loss='categorical_crossentropy',\n",
    "              metrics=['accuracy'])"
   ]
  },
  {
   "cell_type": "code",
   "execution_count": null,
   "metadata": {},
   "outputs": [],
   "source": [
    "batchSize = 32\n",
    "epochsNum = 65\n",
    "\n",
    "stopEarly = EarlyStopping(monitor='val_loss', patience=10, restore_best_weights=True)\n",
    "\n",
    "# Trening modelu\n",
    "history_modify = model_modify.fit(datagen.flow(x_train_norm, y_train_oneHot, batch_size=32),\n",
    "                           shuffle=True,\n",
    "                            epochs=epochsNum,\n",
    "                            validation_data=(x_test, y_test_oneHot),\n",
    "                            callbacks=[stopEarly])"
   ]
  },
  {
   "cell_type": "code",
   "execution_count": null,
   "metadata": {},
   "outputs": [],
   "source": [
    "model_modify.save(\"zapisane/model_modify.h5\")\n",
    "model_modify.save(\"zapisane/model_modify.keras\")"
   ]
  },
  {
   "cell_type": "markdown",
   "metadata": {},
   "source": [
    "## 2.4 Model z modyfikacją zdjęć i warstwą BatchNormalization // na razie nie ruszać - za duża wartość val_loss"
   ]
  },
  {
   "cell_type": "code",
   "execution_count": null,
   "metadata": {},
   "outputs": [],
   "source": [
    "model_modify_batch = models.Sequential()\n",
    "\n",
    "model_modify_batch.add(layers.Conv2D(32, (3, 3), activation='relu', input_shape=(150, 150, 3)))\n",
    "model_modify_batch.add(layers.BatchNormalization())\n",
    "model_modify_batch.add(layers.MaxPooling2D((2, 2)))\n",
    "\n",
    "model_modify_batch.add(layers.Conv2D(64, (3, 3), activation='relu'))\n",
    "model_modify_batch.add(layers.Dropout(0.3))\n",
    "model_modify_batch.add(layers.BatchNormalization())\n",
    "model_modify_batch.add(layers.MaxPooling2D((2, 2)))\n",
    "\n",
    "model_modify_batch.add(layers.Conv2D(128, (3, 3), activation='relu'))\n",
    "model_modify_batch.add(layers.Dropout(0.3))\n",
    "model_modify_batch.add(layers.BatchNormalization())\n",
    "model_modify_batch.add(layers.MaxPooling2D((2, 2)))\n",
    "\n",
    "model_modify_batch.add(layers.Flatten())\n",
    "model_modify_batch.add(layers.Dense(512, activation='relu'))\n",
    "model_modify_batch.add(layers.Dropout(0.3))\n",
    "model_modify_batch.add(layers.BatchNormalization())\n",
    "model_modify_batch.add(layers.Dense(6, activation='softmax'))\n",
    "\n",
    "model_modify_batch.compile(optimizer='adam',\n",
    "              loss='categorical_crossentropy',\n",
    "              metrics=['accuracy'])"
   ]
  },
  {
   "cell_type": "code",
   "execution_count": null,
   "metadata": {},
   "outputs": [],
   "source": [
    "batchSize = 32\n",
    "epochsNum = 50\n",
    "\n",
    "stopEarly = EarlyStopping(monitor='val_loss', patience=10, restore_best_weights=True)\n",
    "\n",
    "# Trening modelu\n",
    "history = model_modify_batch.fit(datagen.flow(x_train_norm, y_train_oneHot, batch_size=32),\n",
    "                           shuffle=True,\n",
    "                            epochs=epochsNum,\n",
    "                            validation_data=(x_test, y_test_oneHot),\n",
    "                            callbacks=[stopEarly])"
   ]
  },
  {
   "cell_type": "code",
   "execution_count": null,
   "metadata": {},
   "outputs": [],
   "source": [
    "model_modify_batch.save(\"zapisane/model_modify_batch.h5\")\n",
    "model_modify_batch.save(\"zapisane/model_modify_batch.keras\")"
   ]
  },
  {
   "cell_type": "markdown",
   "metadata": {},
   "source": [
    "## 2.5 Model prosty wykorzystujący Transformatę Fouriera"
   ]
  },
  {
   "cell_type": "code",
   "execution_count": 8,
   "metadata": {
    "execution": {
     "iopub.execute_input": "2024-10-30T16:32:00.391280Z",
     "iopub.status.busy": "2024-10-30T16:32:00.390867Z",
     "iopub.status.idle": "2024-10-30T16:32:08.610472Z",
     "shell.execute_reply": "2024-10-30T16:32:08.609373Z",
     "shell.execute_reply.started": "2024-10-30T16:32:00.391241Z"
    }
   },
   "outputs": [],
   "source": [
    "x_train_gray = np.mean(x_train_norm, axis=-1)\n",
    "x_test_gray = np.mean(x_test_norm, axis=-1)\n",
    "\n",
    "def fft_batch(images, batch_size=100):\n",
    "    fft_images = []\n",
    "    for i in range(0, len(images), batch_size):\n",
    "        batch = images[i:i + batch_size]\n",
    "        fft_batch = np.fft.fftshift(np.fft.fft2(batch), axes=(-2, -1))\n",
    "        fft_batch = np.abs(fft_batch)  # Wartości bezwzględne\n",
    "        fft_batch /= np.max(fft_batch, axis=(-2, -1), keepdims=True)\n",
    "        fft_images.append(np.abs(fft_batch))  # Użycie wartości bezwzględnej\n",
    "    return np.concatenate(fft_images, axis=0)"
   ]
  },
  {
   "cell_type": "code",
   "execution_count": 9,
   "metadata": {
    "execution": {
     "iopub.execute_input": "2024-10-30T16:32:08.613776Z",
     "iopub.status.busy": "2024-10-30T16:32:08.613362Z",
     "iopub.status.idle": "2024-10-30T16:32:24.024087Z",
     "shell.execute_reply": "2024-10-30T16:32:24.022843Z",
     "shell.execute_reply.started": "2024-10-30T16:32:08.613734Z"
    }
   },
   "outputs": [],
   "source": [
    "x_train_fft = fft_batch(x_train_gray)\n",
    "x_test_fft = fft_batch(x_test_gray)"
   ]
  },
  {
   "cell_type": "code",
   "execution_count": 10,
   "metadata": {
    "execution": {
     "iopub.execute_input": "2024-10-30T16:34:30.328975Z",
     "iopub.status.busy": "2024-10-30T16:34:30.328480Z",
     "iopub.status.idle": "2024-10-30T16:34:30.612628Z",
     "shell.execute_reply": "2024-10-30T16:34:30.611526Z",
     "shell.execute_reply.started": "2024-10-30T16:34:30.328924Z"
    }
   },
   "outputs": [
    {
     "name": "stderr",
     "output_type": "stream",
     "text": [
      "/opt/conda/lib/python3.10/site-packages/keras/src/layers/convolutional/base_conv.py:107: UserWarning: Do not pass an `input_shape`/`input_dim` argument to a layer. When using Sequential models, prefer using an `Input(shape)` object as the first layer in the model instead.\n",
      "  super().__init__(activity_regularizer=activity_regularizer, **kwargs)\n"
     ]
    }
   ],
   "source": [
    "model_simple_fft = models.Sequential()\n",
    "\n",
    "model_simple_fft.add(layers.Conv2D(32, (3, 3), activation='relu', input_shape=(150, 150, 1)))\n",
    "model_simple_fft.add(layers.MaxPooling2D((2, 2)))\n",
    "\n",
    "model_simple_fft.add(layers.Conv2D(64, (3, 3), activation='relu'))\n",
    "model_simple_fft.add(layers.Dropout(0.3))\n",
    "model_simple_fft.add(layers.MaxPooling2D((2, 2)))\n",
    "\n",
    "model_simple_fft.add(layers.Conv2D(128, (3, 3), activation='relu'))\n",
    "model_simple_fft.add(layers.Dropout(0.3))\n",
    "model_simple_fft.add(layers.MaxPooling2D((2, 2)))\n",
    "\n",
    "model_simple_fft.add(layers.Flatten())\n",
    "model_simple_fft.add(layers.Dense(512, activation='relu'))\n",
    "model_simple_fft.add(layers.Dropout(0.3))\n",
    "model_simple_fft.add(layers.Dense(6, activation='softmax'))\n",
    "\n",
    "model_simple_fft.compile(optimizer='adam',\n",
    "                     loss=tf.keras.losses.categorical_crossentropy,\n",
    "                     metrics=['accuracy'])"
   ]
  },
  {
   "cell_type": "code",
   "execution_count": 11,
   "metadata": {
    "execution": {
     "iopub.execute_input": "2024-10-30T16:34:32.552272Z",
     "iopub.status.busy": "2024-10-30T16:34:32.550859Z",
     "iopub.status.idle": "2024-10-30T20:40:16.828167Z",
     "shell.execute_reply": "2024-10-30T20:40:16.825012Z",
     "shell.execute_reply.started": "2024-10-30T16:34:32.552224Z"
    }
   },
   "outputs": [
    {
     "name": "stdout",
     "output_type": "stream",
     "text": [
      "Epoch 1/50\n",
      "\u001b[1m439/439\u001b[0m \u001b[32m━━━━━━━━━━━━━━━━━━━━\u001b[0m\u001b[37m\u001b[0m \u001b[1m469s\u001b[0m 1s/step - accuracy: 0.3730 - loss: 1.4248 - val_accuracy: 0.6313 - val_loss: 0.9591\n",
      "Epoch 2/50\n",
      "\u001b[1m439/439\u001b[0m \u001b[32m━━━━━━━━━━━━━━━━━━━━\u001b[0m\u001b[37m\u001b[0m \u001b[1m470s\u001b[0m 1s/step - accuracy: 0.6539 - loss: 0.8788 - val_accuracy: 0.6490 - val_loss: 0.9228\n",
      "Epoch 3/50\n",
      "\u001b[1m439/439\u001b[0m \u001b[32m━━━━━━━━━━━━━━━━━━━━\u001b[0m\u001b[37m\u001b[0m \u001b[1m487s\u001b[0m 1s/step - accuracy: 0.6918 - loss: 0.7881 - val_accuracy: 0.6920 - val_loss: 0.7936\n",
      "Epoch 4/50\n",
      "\u001b[1m439/439\u001b[0m \u001b[32m━━━━━━━━━━━━━━━━━━━━\u001b[0m\u001b[37m\u001b[0m \u001b[1m501s\u001b[0m 1s/step - accuracy: 0.7031 - loss: 0.7428 - val_accuracy: 0.6930 - val_loss: 0.8182\n",
      "Epoch 5/50\n",
      "\u001b[1m439/439\u001b[0m \u001b[32m━━━━━━━━━━━━━━━━━━━━\u001b[0m\u001b[37m\u001b[0m \u001b[1m449s\u001b[0m 1s/step - accuracy: 0.7209 - loss: 0.7015 - val_accuracy: 0.7213 - val_loss: 0.7210\n",
      "Epoch 6/50\n",
      "\u001b[1m439/439\u001b[0m \u001b[32m━━━━━━━━━━━━━━━━━━━━\u001b[0m\u001b[37m\u001b[0m \u001b[1m445s\u001b[0m 1s/step - accuracy: 0.7288 - loss: 0.6849 - val_accuracy: 0.7130 - val_loss: 0.7600\n",
      "Epoch 7/50\n",
      "\u001b[1m439/439\u001b[0m \u001b[32m━━━━━━━━━━━━━━━━━━━━\u001b[0m\u001b[37m\u001b[0m \u001b[1m449s\u001b[0m 1s/step - accuracy: 0.7213 - loss: 0.6876 - val_accuracy: 0.7120 - val_loss: 0.7564\n",
      "Epoch 8/50\n",
      "\u001b[1m439/439\u001b[0m \u001b[32m━━━━━━━━━━━━━━━━━━━━\u001b[0m\u001b[37m\u001b[0m \u001b[1m448s\u001b[0m 1s/step - accuracy: 0.7348 - loss: 0.6642 - val_accuracy: 0.7247 - val_loss: 0.7262\n",
      "Epoch 9/50\n",
      "\u001b[1m439/439\u001b[0m \u001b[32m━━━━━━━━━━━━━━━━━━━━\u001b[0m\u001b[37m\u001b[0m \u001b[1m446s\u001b[0m 1s/step - accuracy: 0.7458 - loss: 0.6327 - val_accuracy: 0.7163 - val_loss: 0.7199\n",
      "Epoch 10/50\n",
      "\u001b[1m439/439\u001b[0m \u001b[32m━━━━━━━━━━━━━━━━━━━━\u001b[0m\u001b[37m\u001b[0m \u001b[1m444s\u001b[0m 1s/step - accuracy: 0.7601 - loss: 0.6266 - val_accuracy: 0.7310 - val_loss: 0.7190\n",
      "Epoch 11/50\n",
      "\u001b[1m439/439\u001b[0m \u001b[32m━━━━━━━━━━━━━━━━━━━━\u001b[0m\u001b[37m\u001b[0m \u001b[1m444s\u001b[0m 1s/step - accuracy: 0.7560 - loss: 0.6001 - val_accuracy: 0.7373 - val_loss: 0.7020\n",
      "Epoch 12/50\n",
      "\u001b[1m439/439\u001b[0m \u001b[32m━━━━━━━━━━━━━━━━━━━━\u001b[0m\u001b[37m\u001b[0m \u001b[1m445s\u001b[0m 1s/step - accuracy: 0.7652 - loss: 0.5938 - val_accuracy: 0.7447 - val_loss: 0.6612\n",
      "Epoch 13/50\n",
      "\u001b[1m439/439\u001b[0m \u001b[32m━━━━━━━━━━━━━━━━━━━━\u001b[0m\u001b[37m\u001b[0m \u001b[1m445s\u001b[0m 1s/step - accuracy: 0.7673 - loss: 0.5836 - val_accuracy: 0.7333 - val_loss: 0.7118\n",
      "Epoch 14/50\n",
      "\u001b[1m439/439\u001b[0m \u001b[32m━━━━━━━━━━━━━━━━━━━━\u001b[0m\u001b[37m\u001b[0m \u001b[1m444s\u001b[0m 1s/step - accuracy: 0.7803 - loss: 0.5581 - val_accuracy: 0.7397 - val_loss: 0.6613\n",
      "Epoch 15/50\n",
      "\u001b[1m439/439\u001b[0m \u001b[32m━━━━━━━━━━━━━━━━━━━━\u001b[0m\u001b[37m\u001b[0m \u001b[1m447s\u001b[0m 1s/step - accuracy: 0.7818 - loss: 0.5500 - val_accuracy: 0.7280 - val_loss: 0.6949\n",
      "Epoch 16/50\n",
      "\u001b[1m439/439\u001b[0m \u001b[32m━━━━━━━━━━━━━━━━━━━━\u001b[0m\u001b[37m\u001b[0m \u001b[1m505s\u001b[0m 1s/step - accuracy: 0.7878 - loss: 0.5316 - val_accuracy: 0.7333 - val_loss: 0.7097\n",
      "Epoch 17/50\n",
      "\u001b[1m439/439\u001b[0m \u001b[32m━━━━━━━━━━━━━━━━━━━━\u001b[0m\u001b[37m\u001b[0m \u001b[1m446s\u001b[0m 1s/step - accuracy: 0.7837 - loss: 0.5372 - val_accuracy: 0.7527 - val_loss: 0.6533\n",
      "Epoch 18/50\n",
      "\u001b[1m439/439\u001b[0m \u001b[32m━━━━━━━━━━━━━━━━━━━━\u001b[0m\u001b[37m\u001b[0m \u001b[1m501s\u001b[0m 1s/step - accuracy: 0.7984 - loss: 0.5155 - val_accuracy: 0.7280 - val_loss: 0.6792\n",
      "Epoch 19/50\n",
      "\u001b[1m439/439\u001b[0m \u001b[32m━━━━━━━━━━━━━━━━━━━━\u001b[0m\u001b[37m\u001b[0m \u001b[1m447s\u001b[0m 1s/step - accuracy: 0.7940 - loss: 0.5115 - val_accuracy: 0.7457 - val_loss: 0.6506\n",
      "Epoch 20/50\n",
      "\u001b[1m439/439\u001b[0m \u001b[32m━━━━━━━━━━━━━━━━━━━━\u001b[0m\u001b[37m\u001b[0m \u001b[1m446s\u001b[0m 1s/step - accuracy: 0.8078 - loss: 0.4825 - val_accuracy: 0.7200 - val_loss: 0.7029\n",
      "Epoch 21/50\n",
      "\u001b[1m439/439\u001b[0m \u001b[32m━━━━━━━━━━━━━━━━━━━━\u001b[0m\u001b[37m\u001b[0m \u001b[1m501s\u001b[0m 1s/step - accuracy: 0.8080 - loss: 0.4864 - val_accuracy: 0.7433 - val_loss: 0.6802\n",
      "Epoch 22/50\n",
      "\u001b[1m439/439\u001b[0m \u001b[32m━━━━━━━━━━━━━━━━━━━━\u001b[0m\u001b[37m\u001b[0m \u001b[1m441s\u001b[0m 1s/step - accuracy: 0.8160 - loss: 0.4604 - val_accuracy: 0.7477 - val_loss: 0.6428\n",
      "Epoch 23/50\n",
      "\u001b[1m439/439\u001b[0m \u001b[32m━━━━━━━━━━━━━━━━━━━━\u001b[0m\u001b[37m\u001b[0m \u001b[1m448s\u001b[0m 1s/step - accuracy: 0.8227 - loss: 0.4401 - val_accuracy: 0.7343 - val_loss: 0.6893\n",
      "Epoch 24/50\n",
      "\u001b[1m439/439\u001b[0m \u001b[32m━━━━━━━━━━━━━━━━━━━━\u001b[0m\u001b[37m\u001b[0m \u001b[1m445s\u001b[0m 1s/step - accuracy: 0.8305 - loss: 0.4221 - val_accuracy: 0.7463 - val_loss: 0.6655\n",
      "Epoch 25/50\n",
      "\u001b[1m439/439\u001b[0m \u001b[32m━━━━━━━━━━━━━━━━━━━━\u001b[0m\u001b[37m\u001b[0m \u001b[1m446s\u001b[0m 1s/step - accuracy: 0.8305 - loss: 0.4293 - val_accuracy: 0.7430 - val_loss: 0.6555\n",
      "Epoch 26/50\n",
      "\u001b[1m439/439\u001b[0m \u001b[32m━━━━━━━━━━━━━━━━━━━━\u001b[0m\u001b[37m\u001b[0m \u001b[1m501s\u001b[0m 1s/step - accuracy: 0.8445 - loss: 0.3981 - val_accuracy: 0.7317 - val_loss: 0.6989\n",
      "Epoch 27/50\n",
      "\u001b[1m439/439\u001b[0m \u001b[32m━━━━━━━━━━━━━━━━━━━━\u001b[0m\u001b[37m\u001b[0m \u001b[1m444s\u001b[0m 1s/step - accuracy: 0.8358 - loss: 0.3994 - val_accuracy: 0.7437 - val_loss: 0.6626\n",
      "Epoch 28/50\n",
      "\u001b[1m439/439\u001b[0m \u001b[32m━━━━━━━━━━━━━━━━━━━━\u001b[0m\u001b[37m\u001b[0m \u001b[1m446s\u001b[0m 1s/step - accuracy: 0.8511 - loss: 0.3760 - val_accuracy: 0.7417 - val_loss: 0.6645\n",
      "Epoch 29/50\n",
      "\u001b[1m439/439\u001b[0m \u001b[32m━━━━━━━━━━━━━━━━━━━━\u001b[0m\u001b[37m\u001b[0m \u001b[1m501s\u001b[0m 1s/step - accuracy: 0.8604 - loss: 0.3579 - val_accuracy: 0.7407 - val_loss: 0.6945\n",
      "Epoch 30/50\n",
      "\u001b[1m439/439\u001b[0m \u001b[32m━━━━━━━━━━━━━━━━━━━━\u001b[0m\u001b[37m\u001b[0m \u001b[1m448s\u001b[0m 1s/step - accuracy: 0.8632 - loss: 0.3489 - val_accuracy: 0.7353 - val_loss: 0.6914\n",
      "Epoch 31/50\n",
      "\u001b[1m439/439\u001b[0m \u001b[32m━━━━━━━━━━━━━━━━━━━━\u001b[0m\u001b[37m\u001b[0m \u001b[1m501s\u001b[0m 1s/step - accuracy: 0.8588 - loss: 0.3619 - val_accuracy: 0.7283 - val_loss: 0.7107\n",
      "Epoch 32/50\n",
      "\u001b[1m439/439\u001b[0m \u001b[32m━━━━━━━━━━━━━━━━━━━━\u001b[0m\u001b[37m\u001b[0m \u001b[1m446s\u001b[0m 1s/step - accuracy: 0.8704 - loss: 0.3265 - val_accuracy: 0.7173 - val_loss: 0.7209\n"
     ]
    }
   ],
   "source": [
    "batchSize = 32\n",
    "epochsNum = 50\n",
    "\n",
    "stopEarly = EarlyStopping(monitor='val_loss', patience=10, restore_best_weights=True)\n",
    "\n",
    "# Trening modelu\n",
    "history = model_simple_fft.fit(x_train_fft,\n",
    "                               y_train_oneHot,\n",
    "                               batch_size=batchSize,\n",
    "                               shuffle=True,\n",
    "                                epochs=epochsNum,\n",
    "                                validation_data=(x_test_fft, y_test_oneHot),\n",
    "                                callbacks=[stopEarly])"
   ]
  },
  {
   "cell_type": "code",
   "execution_count": 13,
   "metadata": {
    "execution": {
     "iopub.execute_input": "2024-10-30T20:47:48.658201Z",
     "iopub.status.busy": "2024-10-30T20:47:48.656838Z",
     "iopub.status.idle": "2024-10-30T20:47:52.016839Z",
     "shell.execute_reply": "2024-10-30T20:47:52.015425Z",
     "shell.execute_reply.started": "2024-10-30T20:47:48.658149Z"
    }
   },
   "outputs": [],
   "source": [
    "model_simple_fft.save(\"zapisane/model_simple_fft.h5\")\n",
    "model_simple_fft.save(\"zapisane/model_simple_fft.keras\")\n",
    "model_simple_fft.save(\"/kaggle/working/model_simple_fft.h5\")\n",
    "model_simple_fft.save(\"/kaggle/working/model_simple_fft.keras\")\n"
   ]
  },
  {
   "cell_type": "markdown",
   "metadata": {},
   "source": [
    "## 2.6 AlexNet"
   ]
  },
  {
   "cell_type": "code",
   "execution_count": null,
   "metadata": {},
   "outputs": [],
   "source": [
    "for i, category in enumerate(folderlist):\n",
    "    pictures = os.listdir(train_dir+\"/\"+category)\n",
    "    for picture in pictures:\n",
    "        img = plt.imread(train_dir+\"/\"+category+'/{0}'.format(picture),0)\n",
    "        img_resized = resize(img, (227, 227))  # Zmiana rozmiaru obrazów\n",
    "        x_train.append(img_resized)\n",
    "        y_train.append(i)\n",
    "\n",
    "print(\"Train data:\")\n",
    "print(\"x_train: \"+str(len(x_train))) \n",
    "print(\"y_train: \"+str(len(y_train)))"
   ]
  },
  {
   "cell_type": "code",
   "execution_count": null,
   "metadata": {},
   "outputs": [],
   "source": [
    "for i, category in enumerate(folderlist):\n",
    "    pictures = os.listdir(test_dir+\"/\"+category)\n",
    "    for picture in pictures:\n",
    "        img = plt.imread(test_dir+\"/\"+category+'/{0}'.format(picture),0)\n",
    "        img_resized = resize(img, (227, 227))  # Zmiana rozmiaru obrazów\n",
    "        x_test.append(img_resized)\n",
    "        y_test.append(i)\n",
    "\n",
    "print(\"Test data:\")\n",
    "print(\"x_test: \"+str(len(x_test)))\n",
    "print(\"y_test: \"+str(len(y_test)))"
   ]
  },
  {
   "cell_type": "code",
   "execution_count": null,
   "metadata": {},
   "outputs": [],
   "source": [
    "model_AlexNet = models.Sequential()\n",
    "    \n",
    "model_AlexNet.add(layers.Conv2D(96, (11, 11), strides=4, activation='relu', input_shape=(227, 227, 3)))\n",
    "model_AlexNet.add(layers.BatchNormalization())\n",
    "model_AlexNet.add(layers.MaxPooling2D((3, 3), strides=2))\n",
    "    \n",
    "model_AlexNet.add(layers.Conv2D(256, (5, 5), strides=1, padding='same', activation='relu'))\n",
    "model_AlexNet.add(layers.BatchNormalization())\n",
    "model_AlexNet.add(layers.MaxPooling2D((3, 3), strides=2))\n",
    "    \n",
    "model_AlexNet.add(layers.Conv2D(384, (3, 3), strides=1, padding='same', activation='relu'))\n",
    "model_AlexNet.add(layers.Conv2D(384, (3, 3), strides=1, padding='same', activation='relu'))\n",
    "model_AlexNet.add(layers.Conv2D(256, (3, 3), strides=1, padding='same', activation='relu'))\n",
    "model_AlexNet.add(layers.MaxPooling2D((3, 3), strides=2))\n",
    "    \n",
    "model_AlexNet.add(layers.Flatten())\n",
    " \n",
    "model_AlexNet.add(layers.Dense(4096, activation='relu'))\n",
    "model_AlexNet.add(layers.Dropout(0.5))\n",
    "\n",
    "model_AlexNet.add(layers.Dense(4096, activation='relu'))\n",
    "model_AlexNet.add(layers.Dropout(0.5))\n",
    "\n",
    "model_AlexNet.add(layers.Dense(6, activation='softmax'))"
   ]
  },
  {
   "cell_type": "code",
   "execution_count": null,
   "metadata": {},
   "outputs": [],
   "source": [
    "model_AlexNet.compile(optimizer='adam', loss='categorical_crossentropy', metrics=['accuracy'])\n",
    "\n",
    "batchSize = 32\n",
    "epochsNum = 65\n",
    "\n",
    "stopEarly = EarlyStopping(monitor='val_accuracy' , patience=5, restore_best_weights=True)\n",
    "\n",
    "history = model_AlexNet.fit(x_train_norm,\n",
    "                   y_train_oneHot,\n",
    "                   batch_size=batchSize,\n",
    "                   shuffle=True,\n",
    "                   epochs=epochsNum,\n",
    "                   validation_data=(x_test_norm, y_test_oneHot),\n",
    "                   callbacks=[stopEarly])"
   ]
  },
  {
   "cell_type": "code",
   "execution_count": null,
   "metadata": {},
   "outputs": [],
   "source": [
    "model_AlexNet.save(\"zapisane/model_AlexNet.h5\")\n",
    "model_AlexNet.save(\"zapisane/model_AlexNet.keras\")"
   ]
  },
  {
   "cell_type": "markdown",
   "metadata": {},
   "source": [
    "# 3. Wyniki uczenia poszczególnych modeli"
   ]
  },
  {
   "cell_type": "code",
   "execution_count": null,
   "metadata": {},
   "outputs": [],
   "source": [
    "plot_training_history(history_simple, filename='training_history_model_simple.png') "
   ]
  },
  {
   "cell_type": "code",
   "execution_count": 14,
   "metadata": {
    "execution": {
     "iopub.execute_input": "2024-10-30T20:54:48.959611Z",
     "iopub.status.busy": "2024-10-30T20:54:48.958648Z",
     "iopub.status.idle": "2024-10-30T20:54:48.978321Z",
     "shell.execute_reply": "2024-10-30T20:54:48.976943Z",
     "shell.execute_reply.started": "2024-10-30T20:54:48.959555Z"
    }
   },
   "outputs": [],
   "source": [
    "import matplotlib.pyplot as plt\n",
    "\n",
    "def plot_accuracy(epochsNum, acc, val_acc, filename=None):\n",
    "    plt.figure(figsize=(6, 4))\n",
    "    plt.plot(epochsNum, acc, 'r', label=\"Train accuracy\")\n",
    "    plt.plot(epochsNum, val_acc, 'b', label=\"Validation accuracy\")\n",
    "    plt.xlabel('Epoch')\n",
    "    plt.ylabel('Accuracy')\n",
    "    plt.title(\"Training and Validation Accuracy\")\n",
    "    plt.legend(loc='lower right')\n",
    "    plt.grid(True)\n",
    "\n",
    "    if filename:\n",
    "        plt.savefig(filename)\n",
    "    plt.show()\n",
    "\n",
    "def plot_loss(epochsNum, loss, val_loss, filename=None):\n",
    "    plt.figure(figsize=(6, 4))\n",
    "    plt.plot(epochsNum, loss, 'r', label=\"Train loss\")\n",
    "    plt.plot(epochsNum, val_loss, 'b', label=\"Validation loss\")\n",
    "    plt.xlabel('Epoch')\n",
    "    plt.ylabel('Loss')\n",
    "    plt.title(\"Training and Validation Loss\")\n",
    "    plt.legend(loc='upper right')\n",
    "    plt.grid(True)\n",
    "\n",
    "    if filename:\n",
    "        plt.savefig(filename)\n",
    "    plt.show()\n",
    "\n",
    "def plot_training_history(history, accuracy_filename=None, loss_filename=None):\n",
    "    acc = history.history['accuracy']\n",
    "    val_acc = history.history['val_accuracy']\n",
    "    loss = history.history['loss']\n",
    "    val_loss = history.history['val_loss']\n",
    "    \n",
    "    epochsNum = range(1, len(acc) + 1)\n",
    "\n",
    "    # Plot accuracy\n",
    "    plot_accuracy(epochsNum, acc, val_acc, accuracy_filename)\n",
    "    \n",
    "    # Plot loss\n",
    "    plot_loss(epochsNum, loss, val_loss, loss_filename)\n"
   ]
  },
  {
   "cell_type": "code",
   "execution_count": null,
   "metadata": {},
   "outputs": [],
   "source": [
    "plot_training_history(history_bigger, accuracy_filename='accuracy_training_history_model_bigger.png', loss_filename='loss_training_history_model_bigger.png') "
   ]
  },
  {
   "cell_type": "code",
   "execution_count": null,
   "metadata": {},
   "outputs": [],
   "source": [
    "plot_training_history(history_simple, accuracy_filename='accuracy_training_history_model_simple.png', loss_filename='loss_training_history_model_simple.png') "
   ]
  },
  {
   "cell_type": "code",
   "execution_count": null,
   "metadata": {},
   "outputs": [],
   "source": [
    "plot_training_history(history_modify, accuracy_filename='accuracy_training_history_model_modify.png', loss_filename='loss_training_history_model_modify.png') "
   ]
  },
  {
   "cell_type": "code",
   "execution_count": 15,
   "metadata": {
    "execution": {
     "iopub.execute_input": "2024-10-30T20:57:20.109454Z",
     "iopub.status.busy": "2024-10-30T20:57:20.108072Z",
     "iopub.status.idle": "2024-10-30T20:57:21.156447Z",
     "shell.execute_reply": "2024-10-30T20:57:21.155165Z",
     "shell.execute_reply.started": "2024-10-30T20:57:20.109382Z"
    }
   },
   "outputs": [
    {
     "data": {
      "image/png": "[encoded data removed]",
      "text/plain": [
       "<Figure size 600x400 with 1 Axes>"
      ]
     },
     "metadata": {},
     "output_type": "display_data"
    },
    {
     "data": {
      "image/png": "[encoded data removed]",
      "text/plain": [
       "<Figure size 600x400 with 1 Axes>"
      ]
     },
     "metadata": {},
     "output_type": "display_data"
    }
   ],
   "source": [
    "plot_training_history(history, accuracy_filename='accuracy_training_history_model_fft.png', loss_filename='loss_training_history_model_fft.png') "
   ]
  },
  {
   "cell_type": "code",
   "execution_count": null,
   "metadata": {},
   "outputs": [],
   "source": []
  }
 ],
 "metadata": {
  "kaggle": {
   "accelerator": "none",
   "dataSources": [
    {
     "datasetId": 5980500,
     "sourceId": 9765212,
     "sourceType": "datasetVersion"
    }
   ],
   "dockerImageVersionId": 30786,
   "isGpuEnabled": false,
   "isInternetEnabled": false,
   "language": "python",
   "sourceType": "notebook"
  },
  "kernelspec": {
   "display_name": "Python 3 (ipykernel)",
   "language": "python",
   "name": "python3"
  },
  "language_info": {
   "codemirror_mode": {
    "name": "ipython",
    "version": 3
   },
   "file_extension": ".py",
   "mimetype": "text/x-python",
   "name": "python",
   "nbconvert_exporter": "python",
   "pygments_lexer": "ipython3",
   "version": "3.9.7"
  }
 },
 "nbformat": 4,
 "nbformat_minor": 4
}
